{
 "cells": [
  {
   "cell_type": "code",
   "execution_count": 2,
   "metadata": {},
   "outputs": [],
   "source": [
    "import pandas as pd\n",
    "import numpy as np\n",
    "import matplotlib.pyplot as plt\n",
    "import seaborn as sns\n",
    "sns.set()\n",
    "import re \n",
    "import string\n",
    "from nltk import sent_tokenize, word_tokenize\n",
    "from nltk.corpus import stopwords\n",
    "from nltk.stem import PorterStemmer\n",
    "from nltk.stem import WordNetLemmatizer\n",
    "import pickle\n",
    "from textblob import TextBlob"
   ]
  },
  {
   "cell_type": "code",
   "execution_count": 3,
   "metadata": {},
   "outputs": [
    {
     "data": {
      "text/html": [
       "<div>\n",
       "<style scoped>\n",
       "    .dataframe tbody tr th:only-of-type {\n",
       "        vertical-align: middle;\n",
       "    }\n",
       "\n",
       "    .dataframe tbody tr th {\n",
       "        vertical-align: top;\n",
       "    }\n",
       "\n",
       "    .dataframe thead th {\n",
       "        text-align: right;\n",
       "    }\n",
       "</style>\n",
       "<table border=\"1\" class=\"dataframe\">\n",
       "  <thead>\n",
       "    <tr style=\"text-align: right;\">\n",
       "      <th></th>\n",
       "      <th>title</th>\n",
       "      <th>selftext</th>\n",
       "      <th>created_utc</th>\n",
       "      <th>over_18</th>\n",
       "      <th>subreddit</th>\n",
       "    </tr>\n",
       "  </thead>\n",
       "  <tbody>\n",
       "    <tr>\n",
       "      <th>0</th>\n",
       "      <td>Life is so pointless without others</td>\n",
       "      <td>Does anyone else think the most important part...</td>\n",
       "      <td>1650356960</td>\n",
       "      <td>False</td>\n",
       "      <td>BPD</td>\n",
       "    </tr>\n",
       "    <tr>\n",
       "      <th>1</th>\n",
       "      <td>Cold rage?</td>\n",
       "      <td>Hello fellow friends 😄\\n\\nI'm on the BPD spect...</td>\n",
       "      <td>1650356660</td>\n",
       "      <td>False</td>\n",
       "      <td>BPD</td>\n",
       "    </tr>\n",
       "    <tr>\n",
       "      <th>2</th>\n",
       "      <td>I don’t know who I am</td>\n",
       "      <td>My [F20] bf [M20] told me today (after I said ...</td>\n",
       "      <td>1650355379</td>\n",
       "      <td>False</td>\n",
       "      <td>BPD</td>\n",
       "    </tr>\n",
       "    <tr>\n",
       "      <th>3</th>\n",
       "      <td>HELP! Opinions! Advice!</td>\n",
       "      <td>Okay, I’m about to open up about many things I...</td>\n",
       "      <td>1650353430</td>\n",
       "      <td>False</td>\n",
       "      <td>BPD</td>\n",
       "    </tr>\n",
       "    <tr>\n",
       "      <th>4</th>\n",
       "      <td>help</td>\n",
       "      <td>[removed]</td>\n",
       "      <td>1650350907</td>\n",
       "      <td>False</td>\n",
       "      <td>BPD</td>\n",
       "    </tr>\n",
       "    <tr>\n",
       "      <th>...</th>\n",
       "      <td>...</td>\n",
       "      <td>...</td>\n",
       "      <td>...</td>\n",
       "      <td>...</td>\n",
       "      <td>...</td>\n",
       "    </tr>\n",
       "    <tr>\n",
       "      <th>701782</th>\n",
       "      <td>Where can you go to get help for someone menta...</td>\n",
       "      <td>Someone (a war veteran) I know is mentally ill...</td>\n",
       "      <td>1396298261</td>\n",
       "      <td>False</td>\n",
       "      <td>mentalillness</td>\n",
       "    </tr>\n",
       "    <tr>\n",
       "      <th>701783</th>\n",
       "      <td>I am rooster illusion</td>\n",
       "      <td>AMA</td>\n",
       "      <td>1344639905</td>\n",
       "      <td>False</td>\n",
       "      <td>mentalillness</td>\n",
       "    </tr>\n",
       "    <tr>\n",
       "      <th>701784</th>\n",
       "      <td>I look again to make sure so one is near me an...</td>\n",
       "      <td>NaN</td>\n",
       "      <td>1353891546</td>\n",
       "      <td>False</td>\n",
       "      <td>mentalillness</td>\n",
       "    </tr>\n",
       "    <tr>\n",
       "      <th>701785</th>\n",
       "      <td>NAMI | Peer-to-Peer is a unique, experiential ...</td>\n",
       "      <td>NaN</td>\n",
       "      <td>1348724331</td>\n",
       "      <td>False</td>\n",
       "      <td>mentalillness</td>\n",
       "    </tr>\n",
       "    <tr>\n",
       "      <th>701786</th>\n",
       "      <td>crazy motherfucker</td>\n",
       "      <td>so i have a lot of random impluses. crazy shit...</td>\n",
       "      <td>1321506737</td>\n",
       "      <td>False</td>\n",
       "      <td>mentalillness</td>\n",
       "    </tr>\n",
       "  </tbody>\n",
       "</table>\n",
       "<p>701787 rows × 5 columns</p>\n",
       "</div>"
      ],
      "text/plain": [
       "                                                    title  \\\n",
       "0                     Life is so pointless without others   \n",
       "1                                              Cold rage?   \n",
       "2                                   I don’t know who I am   \n",
       "3                                 HELP! Opinions! Advice!   \n",
       "4                                                    help   \n",
       "...                                                   ...   \n",
       "701782  Where can you go to get help for someone menta...   \n",
       "701783                              I am rooster illusion   \n",
       "701784  I look again to make sure so one is near me an...   \n",
       "701785  NAMI | Peer-to-Peer is a unique, experiential ...   \n",
       "701786                                 crazy motherfucker   \n",
       "\n",
       "                                                 selftext  created_utc  \\\n",
       "0       Does anyone else think the most important part...   1650356960   \n",
       "1       Hello fellow friends 😄\\n\\nI'm on the BPD spect...   1650356660   \n",
       "2       My [F20] bf [M20] told me today (after I said ...   1650355379   \n",
       "3       Okay, I’m about to open up about many things I...   1650353430   \n",
       "4                                               [removed]   1650350907   \n",
       "...                                                   ...          ...   \n",
       "701782  Someone (a war veteran) I know is mentally ill...   1396298261   \n",
       "701783                                                AMA   1344639905   \n",
       "701784                                                NaN   1353891546   \n",
       "701785                                                NaN   1348724331   \n",
       "701786  so i have a lot of random impluses. crazy shit...   1321506737   \n",
       "\n",
       "        over_18      subreddit  \n",
       "0         False            BPD  \n",
       "1         False            BPD  \n",
       "2         False            BPD  \n",
       "3         False            BPD  \n",
       "4         False            BPD  \n",
       "...         ...            ...  \n",
       "701782    False  mentalillness  \n",
       "701783    False  mentalillness  \n",
       "701784    False  mentalillness  \n",
       "701785    False  mentalillness  \n",
       "701786    False  mentalillness  \n",
       "\n",
       "[701787 rows x 5 columns]"
      ]
     },
     "execution_count": 3,
     "metadata": {},
     "output_type": "execute_result"
    }
   ],
   "source": [
    "full_data=pd.read_csv('../datasets/mental_disorders_reddit.csv')\n",
    "full_data=full_data.dropna(how='any')\n",
    "full_data.drop(['created_utc'], axis=1)\n",
    "full_data['subreddit'].value_counts().reset_index(name='count')\n",
    "full_data=full_data.dropna(how='any')\n",
    "full_data=full_data.drop(['created_utc'], axis=1)\n",
    "full_data=full_data.drop(['over_18'], axis=1)\n",
    "full_data"
   ]
  },
  {
   "cell_type": "code",
   "execution_count": 4,
   "metadata": {},
   "outputs": [
    {
     "data": {
      "text/plain": [
       "False    682833\n",
       "True      18954\n",
       "Name: over_18, dtype: int64"
      ]
     },
     "execution_count": 4,
     "metadata": {},
     "output_type": "execute_result"
    }
   ],
   "source": [
    "full_data['over_18'].value_counts()"
   ]
  },
  {
   "cell_type": "code",
   "execution_count": 3,
   "metadata": {},
   "outputs": [
    {
     "data": {
      "text/plain": [
       "BPD              233119\n",
       "Anxiety          167032\n",
       "depression       156708\n",
       "bipolar           46666\n",
       "mentalillness     44249\n",
       "schizophrenia     20280\n",
       "Name: subreddit, dtype: int64"
      ]
     },
     "execution_count": 3,
     "metadata": {},
     "output_type": "execute_result"
    }
   ],
   "source": [
    "full_data['subreddit'].value_counts()"
   ]
  },
  {
   "cell_type": "code",
   "execution_count": 4,
   "metadata": {},
   "outputs": [
    {
     "data": {
      "image/png": "[encoded data removed]",
      "text/plain": [
       "<Figure size 2000x600 with 1 Axes>"
      ]
     },
     "metadata": {},
     "output_type": "display_data"
    }
   ],
   "source": [
    "plt.figure(figsize=(20, 6), dpi=100)\n",
    "\n",
    "plt.subplot(1, 2, 1)\n",
    "sns.barplot(x = full_data['subreddit'].unique(), y = full_data['subreddit'].value_counts(), palette= 'viridis')\n",
    "\n",
    "plt.show()"
   ]
  },
  {
   "cell_type": "code",
   "execution_count": 5,
   "metadata": {},
   "outputs": [],
   "source": [
    "def convert_lowercase(text):\n",
    "    text = text.lower()\n",
    "    return text"
   ]
  },
  {
   "cell_type": "code",
   "execution_count": 6,
   "metadata": {},
   "outputs": [],
   "source": [
    "def remove_url(text):\n",
    "    re_url = re.compile('https?://\\S+|www\\.\\S+')\n",
    "    return re_url.sub('', text)"
   ]
  },
  {
   "cell_type": "code",
   "execution_count": 7,
   "metadata": {},
   "outputs": [],
   "source": [
    "exclude = string.punctuation\n",
    "\n",
    "def remove_punc(text):\n",
    "    return text.translate(str.maketrans('', '', exclude))\n"
   ]
  },
  {
   "cell_type": "code",
   "execution_count": 8,
   "metadata": {},
   "outputs": [],
   "source": [
    "def remove_stopwords(text):\n",
    "    new_list = []\n",
    "    words = word_tokenize(text)\n",
    "    stopwrds = stopwords.words('english')\n",
    "    for word in words:\n",
    "        if word not in stopwrds:\n",
    "            new_list.append(word)\n",
    "    return ' '.join(new_list)\n"
   ]
  },
  {
   "cell_type": "code",
   "execution_count": 9,
   "metadata": {},
   "outputs": [],
   "source": [
    "def steaming(text):\n",
    "    ps = PorterStemmer()\n",
    "    tokens = text.split()\n",
    "    stemmed_tokens = [ps.stem(token) for token in tokens]\n",
    "    return ' '.join(stemmed_tokens)"
   ]
  },
  {
   "cell_type": "code",
   "execution_count": 10,
   "metadata": {},
   "outputs": [],
   "source": [
    " def lemmatize_words(text):\n",
    "    lemmatizer = WordNetLemmatizer()\n",
    "    words = text.split()\n",
    "    words = [lemmatizer.lemmatize(word,pos='v') for word in words]\n",
    "    return ' '.join(words)"
   ]
  },
  {
   "cell_type": "code",
   "execution_count": 12,
   "metadata": {},
   "outputs": [],
   "source": [
    "full_data['selftext'] = full_data['selftext'].apply(convert_lowercase)\n",
    "full_data['selftext'] = full_data['selftext'].apply(remove_url)\n",
    "full_data['selftext'] = full_data['selftext'].apply(remove_punc)\n",
    "full_data['selftext'] = full_data['selftext'].apply(remove_stopwords)\n",
    "full_data['selftext'] = full_data['selftext'].apply(steaming)\n",
    "full_data['selftext'] = full_data['selftext'].apply(lemmatize_words)\n"
   ]
  },
  {
   "cell_type": "code",
   "execution_count": 13,
   "metadata": {},
   "outputs": [],
   "source": [
    "full_data['selftext']=full_data['selftext'].astype(str).apply(lambda x: x.encode('ascii', 'ignore').decode('ascii'))\n",
    "full_data['title']=full_data['title'].astype(str).apply(lambda x: x.encode('ascii', 'ignore').decode('ascii'))"
   ]
  },
  {
   "cell_type": "code",
   "execution_count": 14,
   "metadata": {},
   "outputs": [],
   "source": [
    "\n",
    "full_data['title'] = full_data['title'].apply(convert_lowercase)\n",
    "full_data['title'] = full_data['title'].apply(remove_url)\n",
    "full_data['title'] = full_data['title'].apply(remove_punc)\n",
    "full_data['title'] = full_data['title'].apply(remove_stopwords)\n",
    "full_data['title'] = full_data['title'].apply(steaming)\n",
    "full_data['title'] = full_data['title'].apply(lemmatize_words)\n"
   ]
  },
  {
   "cell_type": "code",
   "execution_count": 15,
   "metadata": {},
   "outputs": [],
   "source": [
    "full_data = full_data[full_data.selftext != 'remov']\n",
    "full_data = full_data[full_data.title != 'remov']"
   ]
  },
  {
   "cell_type": "code",
   "execution_count": null,
   "metadata": {},
   "outputs": [],
   "source": [
    "full_data.to_csv('../datasets/mental_disorders_reddit_preprossed.csv')"
   ]
  },
  {
   "cell_type": "code",
   "execution_count": null,
   "metadata": {},
   "outputs": [],
   "source": []
  }
 ],
 "metadata": {
  "kernelspec": {
   "display_name": "gpu2",
   "language": "python",
   "name": "gpu2"
  },
  "language_info": {
   "codemirror_mode": {
    "name": "ipython",
    "version": 3
   },
   "file_extension": ".py",
   "mimetype": "text/x-python",
   "name": "python",
   "nbconvert_exporter": "python",
   "pygments_lexer": "ipython3",
   "version": "3.6.13"
  }
 },
 "nbformat": 4,
 "nbformat_minor": 2
}
