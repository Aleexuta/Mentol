{
 "cells": [
  {
   "cell_type": "code",
   "execution_count": 1,
   "metadata": {},
   "outputs": [],
   "source": [
    "import sys\n",
    "import logging\n",
    "\n",
    "so = open(\"data_lstm.log\", 'w', 10)\n",
    "sys.stdout.echo = so\n",
    "sys.stderr.echo = so\n",
    "\n",
    "get_ipython().log.handlers[0].stream = so\n",
    "get_ipython().log.setLevel(logging.INFO)"
   ]
  },
  {
   "cell_type": "code",
   "execution_count": 2,
   "metadata": {},
   "outputs": [
    {
     "name": "stderr",
     "output_type": "stream",
     "text": [
      "/home/alexandra_neagu/anaconda3/envs/gpu2/lib/python3.6/site-packages/tqdm/auto.py:22: TqdmWarning: IProgress not found. Please update jupyter and ipywidgets. See https://ipywidgets.readthedocs.io/en/stable/user_install.html\n",
      "  from .autonotebook import tqdm as notebook_tqdm\n",
      "/home/alexandra_neagu/anaconda3/envs/gpu2/lib/python3.6/site-packages/gensim/similarities/__init__.py:15: UserWarning: The gensim.similarities.levenshtein submodule is disabled, because the optional Levenshtein package <https://pypi.org/project/python-Levenshtein/> is unavailable. Install Levenhstein (e.g. `pip install python-Levenshtein`) to suppress this warning.\n",
      "  warnings.warn(msg)\n"
     ]
    }
   ],
   "source": [
    "import torch\n",
    "import torch.nn as nn\n",
    "import torchvision.transforms as transforms\n",
    "import torchvision.datasets as datasets\n",
    "from torch.utils.data import DataLoader, Dataset, random_split\n",
    "import numpy as np\n",
    "import pandas as pd\n",
    "from sklearn.utils import shuffle\n",
    "from sklearn.naive_bayes import MultinomialNB\n",
    "from sklearn.ensemble import RandomForestClassifier\n",
    "from sklearn import svm\n",
    "from sklearn import preprocessing\n",
    "from sklearn.preprocessing import LabelEncoder\n",
    "from sklearn.feature_extraction.text import TfidfVectorizer\n",
    "from sklearn.model_selection import train_test_split\n",
    "from sklearn.metrics import accuracy_score, precision_score, recall_score, f1_score\n",
    "from pyimpute import load_training_vector, load_targets, impute, evaluate_clf\n",
    "from scikitplot.metrics import plot_confusion_matrix, plot_roc\n",
    "from sklearn.model_selection import train_test_split\n",
    "from sklearn.metrics import accuracy_score, precision_score, recall_score, f1_score, confusion_matrix\n",
    "import matplotlib.pyplot as plt\n",
    "import seaborn as sns\n",
    "sns.set()\n",
    "import keras\n",
    "from keras.layers import Embedding,Dense,LSTM,Bidirectional,SpatialDropout1D,GlobalMaxPooling1D,Input,Dropout,CuDNNLSTM,Conv1D\n",
    "from keras.callbacks import EarlyStopping,ReduceLROnPlateau\n",
    "from keras.models import Sequential\n",
    "from tensorflow.keras.preprocessing.text import Tokenizer\n",
    "from tensorflow.keras.preprocessing.sequence import pad_sequences\n",
    "import tensorflow as tf\n",
    "import re\n",
    "import string\n",
    "from nltk import sent_tokenize, word_tokenize\n",
    "from nltk.corpus import stopwords\n",
    "from nltk.stem import PorterStemmer\n",
    "import pickle\n",
    "from gensim.models import Word2Vec\n",
    "import warnings\n",
    "warnings.filterwarnings('ignore')\n",
    "from numpy.random import permutation\n",
    "import os\n",
    "os.environ['TF_CPP_MIN_LOG_LEVEL'] = '3' \n",
    "from tqdm import tqdm"
   ]
  },
  {
   "cell_type": "code",
   "execution_count": 3,
   "metadata": {},
   "outputs": [],
   "source": [
    "# ###1.3 Set GPU Growth -> avoid OOM errors by setting GPU Memory Consumption Growth\n",
    "# gpus = tf.config.experimental.list_physical_devices('GPU')\n",
    "# #ia toate GPUs disponibile pe aceasta masina\n",
    "\n",
    "# for gpu in gpus:\n",
    "#     tf.config.experimental.set_memory_growth(gpu,True)\n",
    "    \n",
    "# tf.config.experimental.set_visible_devices(devices=gpus[1], device_type='GPU')\n",
    "# tf.config.experimental.set_memory_growth(device=gpus[1], enable=True)"
   ]
  },
  {
   "cell_type": "code",
   "execution_count": 4,
   "metadata": {},
   "outputs": [],
   "source": [
    "from torch import cuda\n",
    "device = 'cuda:2' if cuda.is_available() else 'cpu'"
   ]
  },
  {
   "cell_type": "code",
   "execution_count": 5,
   "metadata": {},
   "outputs": [],
   "source": [
    "full_data=pd.read_csv('../datasets/positive_reddit_combined.csv')\n",
    "\n",
    "full_data=full_data.dropna(axis=0).reset_index(drop=True)"
   ]
  },
  {
   "cell_type": "code",
   "execution_count": 6,
   "metadata": {},
   "outputs": [],
   "source": [
    "vocab_size=5000\n",
    "max_length = 300\n",
    "oov_tok = '<OOV>'\n",
    "trunc_type = 'post'\n",
    "padding_type = 'post'\n",
    "embedding_dim = 128\n",
    "MAX_SEQUENCE_LENGTH =300\n",
    "MAX_NB_WORDS =1000\n",
    "TRAIN_SIZE = 0.8"
   ]
  },
  {
   "cell_type": "code",
   "execution_count": 7,
   "metadata": {},
   "outputs": [],
   "source": [
    "X=full_data[\"post\"]\n",
    "y=full_data[\"subreddit\"].values\n",
    "\n",
    "X_train, X_test, y_train, y_test = train_test_split (X,y,test_size=0.3, random_state=13, stratify=y )\n",
    "\n",
    "X_train, X_validate, y_train, y_validate = train_test_split (X_train,y_train,train_size=0.8, random_state=18, stratify=y_train )"
   ]
  },
  {
   "cell_type": "code",
   "execution_count": 8,
   "metadata": {},
   "outputs": [],
   "source": [
    "number_of_labels=full_data[\"subreddit\"].nunique()"
   ]
  },
  {
   "cell_type": "code",
   "execution_count": 9,
   "metadata": {},
   "outputs": [
    {
     "data": {
      "text/plain": [
       "depression       117328\n",
       "suicidewatch      66159\n",
       "adhd              45630\n",
       "bpd               24294\n",
       "lonely            23635\n",
       "socialanxiety     22996\n",
       "EDAnonymous       14577\n",
       "autism             8869\n",
       "schizophrenia      8712\n",
       "healthanxiety      8648\n",
       "ptsd               8643\n",
       "addiction          7641\n",
       "bipolarreddit      5780\n",
       "Name: subreddit, dtype: int64"
      ]
     },
     "execution_count": 9,
     "metadata": {},
     "output_type": "execute_result"
    }
   ],
   "source": [
    "full_data[\"subreddit\"].value_counts()"
   ]
  },
  {
   "cell_type": "markdown",
   "metadata": {},
   "source": [
    "tokenization\n"
   ]
  },
  {
   "cell_type": "code",
   "execution_count": 10,
   "metadata": {},
   "outputs": [
    {
     "data": {
      "text/plain": [
       "102236"
      ]
     },
     "execution_count": 10,
     "metadata": {},
     "output_type": "execute_result"
    }
   ],
   "source": [
    "tokenizer = Tokenizer(num_words=vocab_size, oov_token = oov_tok)\n",
    "tokenizer.fit_on_texts(X_train)\n",
    "word_index = tokenizer.word_index\n",
    "vocab_size=len(tokenizer.word_index) + 1\n",
    "vocab_size"
   ]
  },
  {
   "cell_type": "code",
   "execution_count": 11,
   "metadata": {},
   "outputs": [],
   "source": [
    "train_sequences = tokenizer.texts_to_sequences(X_train)\n",
    "train_padded = pad_sequences(train_sequences, maxlen=MAX_SEQUENCE_LENGTH, \n",
    "                             padding=padding_type, truncating=trunc_type)"
   ]
  },
  {
   "cell_type": "code",
   "execution_count": 12,
   "metadata": {},
   "outputs": [],
   "source": [
    "validation_sequences = tokenizer.texts_to_sequences(X_validate)\n",
    "validation_padded = pad_sequences(validation_sequences, maxlen=MAX_SEQUENCE_LENGTH, padding=padding_type, truncating=trunc_type)"
   ]
  },
  {
   "cell_type": "code",
   "execution_count": 13,
   "metadata": {},
   "outputs": [],
   "source": [
    "test_sequences = tokenizer.texts_to_sequences(X_test)\n",
    "test_padded = pad_sequences(test_sequences, maxlen=MAX_SEQUENCE_LENGTH, padding=padding_type, truncating=trunc_type)"
   ]
  },
  {
   "cell_type": "code",
   "execution_count": 14,
   "metadata": {},
   "outputs": [],
   "source": [
    "#transform label from text to number\n",
    "encoder = LabelEncoder()\n",
    "encoder.fit(y_train)\n",
    "\n",
    "training_label_seq = encoder.transform(y_train)\n",
    "test_label_seq = encoder.transform(y_test)\n",
    "validation_label_seq = encoder.transform(y_validate)\n"
   ]
  },
  {
   "cell_type": "code",
   "execution_count": 15,
   "metadata": {},
   "outputs": [],
   "source": [
    "reverse_word_index = dict(map(reversed, tokenizer.word_index.items()))\n",
    "\n",
    "def decode_article(text):\n",
    "     words = [reverse_word_index.get(letter) for letter in text]\n",
    "     return(words)"
   ]
  },
  {
   "cell_type": "markdown",
   "metadata": {},
   "source": [
    "Glove embeddings"
   ]
  },
  {
   "cell_type": "code",
   "execution_count": 16,
   "metadata": {},
   "outputs": [],
   "source": [
    "EMBEDDING_DIM = 300\n",
    "LR = 1e-3\n",
    "BATCH_SIZE = 32\n",
    "EPOCHS = 50"
   ]
  },
  {
   "cell_type": "code",
   "execution_count": 17,
   "metadata": {},
   "outputs": [],
   "source": [
    "words = {}\n",
    "for example in X:\n",
    "    for word in example.split():\n",
    "        if word not in words:\n",
    "            words[word] = 0\n",
    "        else:\n",
    "            words[word] += 1"
   ]
  },
  {
   "cell_type": "code",
   "execution_count": 18,
   "metadata": {},
   "outputs": [],
   "source": [
    "# glove_embedding={}\n",
    "embeddings_text = open('../datasets/glove.6B.300d.txt', 'r', encoding='utf-8')"
   ]
  },
  {
   "cell_type": "code",
   "execution_count": 19,
   "metadata": {},
   "outputs": [
    {
     "name": "stdout",
     "output_type": "stream",
     "text": [
      "Found 400000 word vectors.\n"
     ]
    }
   ],
   "source": [
    "# This will take some time\n",
    "embeddings_index = {}\n",
    "\n",
    "for line in embeddings_text:\n",
    "  values = line.split()\n",
    "  word = value = values[0]\n",
    "  coefs = np.asarray(values[1:], dtype='float32')\n",
    "  embeddings_index[word] = coefs\n",
    "embeddings_text.close()\n",
    "\n",
    "print('Found %s word vectors.' %len(embeddings_index))"
   ]
  },
  {
   "cell_type": "code",
   "execution_count": 20,
   "metadata": {},
   "outputs": [],
   "source": [
    "embedding_matrix = np.zeros((vocab_size, EMBEDDING_DIM))\n",
    "for word, i in word_index.items():\n",
    "  embedding_vector = embeddings_index.get(word)\n",
    "  if embedding_vector is not None:\n",
    "    embedding_matrix[i] = embedding_vector"
   ]
  },
  {
   "cell_type": "markdown",
   "metadata": {},
   "source": [
    "callbacks"
   ]
  },
  {
   "cell_type": "code",
   "execution_count": 21,
   "metadata": {},
   "outputs": [],
   "source": [
    "early_stop=EarlyStopping(patience=5, min_delta=0.01)\n",
    "reducelr=ReduceLROnPlateau(patience=5)"
   ]
  },
  {
   "cell_type": "markdown",
   "metadata": {},
   "source": [
    "Augumentare"
   ]
  },
  {
   "cell_type": "code",
   "execution_count": null,
   "metadata": {},
   "outputs": [],
   "source": []
  },
  {
   "cell_type": "code",
   "execution_count": 22,
   "metadata": {},
   "outputs": [],
   "source": [
    "import nlpaug.augmenter.char as nac\n",
    "import nlpaug.augmenter.word as naw\n",
    "import nlpaug.augmenter.sentence as nas\n",
    "import nlpaug.flow as nafc\n",
    "\n",
    "from nlpaug.util import Action"
   ]
  },
  {
   "cell_type": "code",
   "execution_count": 23,
   "metadata": {},
   "outputs": [],
   "source": [
    "\n",
    "def augumentation_synonym(row, augment_prob=0.3):\n",
    "    decoded_row=decode_article(row)\n",
    "    word_list = list(filter(None, decoded_row))\n",
    "    num_words = len(word_list)\n",
    "    string_row=decoded_row[0:num_words]\n",
    "    sentence = \" \".join(string_row)\n",
    "    augSynonim=naw.SynonymAug(aug_p=augment_prob)\n",
    "    aug_text=augSynonim.augment(sentence)\n",
    "    aug_text_token=tokenizer.texts_to_sequences(aug_text)\n",
    "    return aug_text\n",
    "\n",
    "aug = nac.KeyboardAug()\n",
    "def augumentation_char_keyboard(row):\n",
    "    decoded_row=decode_article(row)\n",
    "    word_list = list(filter(None, decoded_row))\n",
    "    num_words = len(word_list)\n",
    "    string_row=decoded_row[0:num_words]\n",
    "    sentence = \" \".join(string_row)\n",
    "   \n",
    "    augmented_text = aug.augment(sentence)\n",
    "    return augmented_text\n",
    "augW2N = naw.WordEmbsAug(model_type='word2vec', model_path='../datasets/GoogleNews-vectors-negative300.bin',action=\"substitute\")\n",
    "def augumentation_word2vec(row):\n",
    "    decoded_row=decode_article(row)\n",
    "    word_list = list(filter(None, decoded_row))\n",
    "    num_words = len(word_list)\n",
    "    string_row=decoded_row[0:num_words]\n",
    "    sentence = \" \".join(string_row)\n",
    "\n",
    "    aug_text=augW2N.augment(sentence)\n",
    "    aug_text_token=tokenizer.texts_to_sequences(aug_text)\n",
    "    return aug_text"
   ]
  },
  {
   "cell_type": "code",
   "execution_count": 24,
   "metadata": {},
   "outputs": [
    {
     "data": {
      "text/plain": [
       "array([ 749, 1044,   10,  123,   19,  211,   13,   18,    1,   10,   15,\n",
       "         34,   71,   18,   12,   19,  804,   85, 2693,  382,   58,   19,\n",
       "          3,   52,   58,  506,  106,  352,    6, 2299,   35,  286,  364,\n",
       "       4366,   40,   43,   40,  749,    0,    0,    0,    0,    0,    0,\n",
       "          0,    0,    0,    0,    0,    0,    0,    0,    0,    0,    0,\n",
       "          0,    0,    0,    0,    0,    0,    0,    0,    0,    0,    0,\n",
       "          0,    0,    0,    0,    0,    0,    0,    0,    0,    0,    0,\n",
       "          0,    0,    0,    0,    0,    0,    0,    0,    0,    0,    0,\n",
       "          0,    0,    0,    0,    0,    0,    0,    0,    0,    0,    0,\n",
       "          0,    0,    0,    0,    0,    0,    0,    0,    0,    0,    0,\n",
       "          0,    0,    0,    0,    0,    0,    0,    0,    0,    0,    0,\n",
       "          0,    0,    0,    0,    0,    0,    0,    0,    0,    0,    0,\n",
       "          0,    0,    0,    0,    0,    0,    0,    0,    0,    0,    0,\n",
       "          0,    0,    0,    0,    0,    0,    0,    0,    0,    0,    0,\n",
       "          0,    0,    0,    0,    0,    0,    0,    0,    0,    0,    0,\n",
       "          0,    0,    0,    0,    0,    0,    0,    0,    0,    0,    0,\n",
       "          0,    0,    0,    0,    0,    0,    0,    0,    0,    0,    0,\n",
       "          0,    0,    0,    0,    0,    0,    0,    0,    0,    0,    0,\n",
       "          0,    0,    0,    0,    0,    0,    0,    0,    0,    0,    0,\n",
       "          0,    0,    0,    0,    0,    0,    0,    0,    0,    0,    0,\n",
       "          0,    0,    0,    0,    0,    0,    0,    0,    0,    0,    0,\n",
       "          0,    0,    0,    0,    0,    0,    0,    0,    0,    0,    0,\n",
       "          0,    0,    0,    0,    0,    0,    0,    0,    0,    0,    0,\n",
       "          0,    0,    0,    0,    0,    0,    0,    0,    0,    0,    0,\n",
       "          0,    0,    0,    0,    0,    0,    0,    0,    0,    0,    0,\n",
       "          0,    0,    0,    0,    0,    0,    0,    0,    0,    0,    0,\n",
       "          0,    0,    0,    0,    0,    0,    0,    0,    0,    0,    0,\n",
       "          0,    0,    0], dtype=int32)"
      ]
     },
     "execution_count": 24,
     "metadata": {},
     "output_type": "execute_result"
    }
   ],
   "source": [
    "test_padded[0]"
   ]
  },
  {
   "cell_type": "code",
   "execution_count": 25,
   "metadata": {},
   "outputs": [
    {
     "data": {
      "text/plain": [
       "'esca)e u dont manl friend real life work <OOV> don% really ralk lot work make friend quickly lise em sudk keep Triend im goLd keep contact shit eve3Gday go pc start ga,e dream soldier someth live someth escape'"
      ]
     },
     "execution_count": 25,
     "metadata": {},
     "output_type": "execute_result"
    }
   ],
   "source": [
    "augumentation_char_keyboard(test_padded[0])"
   ]
  },
  {
   "cell_type": "markdown",
   "metadata": {},
   "source": [
    "Generator"
   ]
  },
  {
   "cell_type": "code",
   "execution_count": 26,
   "metadata": {},
   "outputs": [],
   "source": [
    "def generator(X_data,y_data,batch_size,ratio_aug=0,aug_function=None):\n",
    "    cur_index=0\n",
    "    max_index=X_data.shape[0]\n",
    "    while True:\n",
    "        rows=np.arange(cur_index,min(cur_index+batch_size,max_index))\n",
    "        l=rows.size\n",
    "        if aug_function is not None:\n",
    "            aug_rows=np.random.choice(rows,int(l*ratio_aug),replace=False)\n",
    "            orig_rows=np.setdiff1d(rows,aug_rows)\n",
    "            \n",
    "            aug_samples=np.array([aug_function(X_data[i]) for i in aug_rows])\n",
    "            aug_samples = np.reshape(aug_samples, (len(aug_samples), 1))\n",
    "            df = pd.DataFrame(aug_samples,columns=['col'])\n",
    "            aug_samples_token = tokenizer.texts_to_sequences(df['col'])\n",
    "\n",
    "            aug_samples_padd = pad_sequences(aug_samples_token, maxlen=MAX_SEQUENCE_LENGTH, padding=padding_type, truncating=trunc_type)\n",
    "            orig_samples=X_data[orig_rows]\n",
    "            \n",
    "            samples=np.concatenate((aug_samples_padd,orig_samples),axis=0)\n",
    "            targets=np.concatenate((y_data[aug_rows],y_data[orig_rows]),axis=0)\n",
    "        else:\n",
    "            samples=X_data[rows]\n",
    "            targets=y_data[rows]\n",
    "        cur_index+=len(rows)\n",
    "        if(cur_index>=max_index):\n",
    "            cur_index=0\n",
    "        yield samples, targets"
   ]
  },
  {
   "cell_type": "code",
   "execution_count": 27,
   "metadata": {},
   "outputs": [],
   "source": [
    "# training_label_seq=training_label_seq.reshape(-1,1)\n",
    "# validation_label_seq=validation_label_seq.reshape(-1,1)"
   ]
  },
  {
   "cell_type": "code",
   "execution_count": 28,
   "metadata": {},
   "outputs": [],
   "source": [
    "train_gen=generator(train_padded,training_label_seq,BATCH_SIZE,0.2,augumentation_word2vec)\n",
    "val_gen=generator(validation_padded,validation_label_seq,BATCH_SIZE)\n"
   ]
  },
  {
   "cell_type": "code",
   "execution_count": 29,
   "metadata": {},
   "outputs": [
    {
     "name": "stdout",
     "output_type": "stream",
     "text": [
      "6350.9375 1587.75\n"
     ]
    }
   ],
   "source": [
    "train_len=train_padded.shape[0]\n",
    "val_len=validation_padded.shape[0]\n",
    "num_epochs =50\n",
    "val_steps=val_len/BATCH_SIZE\n",
    "train_steps=train_len/BATCH_SIZE\n",
    "\n",
    "print(train_steps, val_steps)"
   ]
  },
  {
   "cell_type": "markdown",
   "metadata": {},
   "source": [
    "Cream model"
   ]
  },
  {
   "cell_type": "code",
   "execution_count": 30,
   "metadata": {},
   "outputs": [
    {
     "data": {
      "text/plain": [
       "(array([ 0,  1,  2,  3,  4,  5,  6,  7,  8,  9, 10, 11, 12]),\n",
       " array([ 8163,  4279, 25553,  4966,  3237, 13605, 65703,  4843, 13236,\n",
       "         4840,  4878, 12878, 37049]))"
      ]
     },
     "execution_count": 30,
     "metadata": {},
     "output_type": "execute_result"
    }
   ],
   "source": [
    "labels=np.unique(training_label_seq,return_counts=True)\n",
    "labels"
   ]
  },
  {
   "cell_type": "code",
   "execution_count": 31,
   "metadata": {},
   "outputs": [
    {
     "name": "stdout",
     "output_type": "stream",
     "text": [
      "203230\n"
     ]
    },
    {
     "data": {
      "text/plain": [
       "{0: 4.149414022622402,\n",
       " 1: 7.915790293682324,\n",
       " 2: 1.3255455980380646,\n",
       " 3: 6.8207141898241375,\n",
       " 4: 10.463906909690042,\n",
       " 5: 2.489648413573441,\n",
       " 6: 0.5155269419458269,\n",
       " 7: 6.993943148186386,\n",
       " 8: 2.5590561096000806,\n",
       " 9: 6.998278236914601,\n",
       " 10: 6.943761104277709,\n",
       " 11: 2.630196200238132,\n",
       " 12: 0.9142397005767138}"
      ]
     },
     "execution_count": 31,
     "metadata": {},
     "output_type": "execute_result"
    }
   ],
   "source": [
    "class_weights={}\n",
    "total=labels[1].sum()\n",
    "num_classes=6\n",
    "print(total)\n",
    "for i in labels[0]:\n",
    "    class_weights[i]=total/(num_classes*labels[1][i])\n",
    "class_weights"
   ]
  },
  {
   "cell_type": "code",
   "execution_count": 32,
   "metadata": {},
   "outputs": [
    {
     "name": "stdout",
     "output_type": "stream",
     "text": [
      "(array([ 0,  1,  2,  3,  4,  5,  6,  7,  8,  9, 10, 11, 12]), array([ 8163,  4279, 25553,  4966,  3237, 13605, 65703,  4843, 13236,\n",
      "        4840,  4878, 12878, 37049]))\n",
      "0 1.3176066092471155\n",
      "1 1.9634990202816547\n",
      "2 0.17646363112969168\n",
      "3 1.8146036706303594\n",
      "4 2.242571382772227\n",
      "5 0.8067809854811248\n",
      "6 -0.7679262288322051\n",
      "7 1.8396839942952423\n",
      "8 0.8342779676569686\n",
      "9 1.840303636987794\n",
      "10 1.832483057922606\n",
      "11 0.8616979286003427\n",
      "12 -0.19502300310820364\n"
     ]
    },
    {
     "data": {
      "text/plain": [
       "{0: 1.3176066092471155,\n",
       " 1: 1.9634990202816547,\n",
       " 2: 1,\n",
       " 3: 1.8146036706303594,\n",
       " 4: 2.242571382772227,\n",
       " 5: 1,\n",
       " 6: 1,\n",
       " 7: 1.8396839942952423,\n",
       " 8: 1,\n",
       " 9: 1.840303636987794,\n",
       " 10: 1.832483057922606,\n",
       " 11: 1,\n",
       " 12: 1}"
      ]
     },
     "execution_count": 32,
     "metadata": {},
     "output_type": "execute_result"
    }
   ],
   "source": [
    "def class_weight_compute(labels_dict,mu=0.15):\n",
    "    print(labels_dict)\n",
    "    total = np.sum(labels_dict[1])\n",
    "    keys = labels_dict[0]\n",
    "    weight = dict()\n",
    "    for i in keys:\n",
    "        score = np.log(mu*total/float(labels_dict[1][i]))\n",
    "        print(i,score)\n",
    "        weight[i] = score if score > 1 else 1\n",
    "    return weight\n",
    "# random labels_dict\n",
    "labels_dict =np.unique(training_label_seq,return_counts=True)\n",
    "weights = class_weight_compute(labels_dict)\n",
    "weights"
   ]
  },
  {
   "cell_type": "code",
   "execution_count": 33,
   "metadata": {},
   "outputs": [
    {
     "name": "stdout",
     "output_type": "stream",
     "text": [
      "Model: \"sequential\"\n",
      "_________________________________________________________________\n",
      "Layer (type)                 Output Shape              Param #   \n",
      "=================================================================\n",
      "embedding (Embedding)        (None, 300, 300)          30670800  \n",
      "_________________________________________________________________\n",
      "spatial_dropout1d (SpatialDr (None, 300, 300)          0         \n",
      "_________________________________________________________________\n",
      "bidirectional (Bidirectional (None, 300, 128)          186880    \n",
      "_________________________________________________________________\n",
      "bidirectional_1 (Bidirection (None, 128)               98816     \n",
      "_________________________________________________________________\n",
      "dense (Dense)                (None, 64)                8256      \n",
      "_________________________________________________________________\n",
      "dropout (Dropout)            (None, 64)                0         \n",
      "_________________________________________________________________\n",
      "dense_1 (Dense)              (None, 32)                2080      \n",
      "_________________________________________________________________\n",
      "dropout_1 (Dropout)          (None, 32)                0         \n",
      "_________________________________________________________________\n",
      "dense_2 (Dense)              (None, 13)                429       \n",
      "=================================================================\n",
      "Total params: 30,967,261\n",
      "Trainable params: 296,461\n",
      "Non-trainable params: 30,670,800\n",
      "_________________________________________________________________\n"
     ]
    }
   ],
   "source": [
    "model1 = Sequential([\n",
    "    Embedding(vocab_size, EMBEDDING_DIM, weights=[embedding_matrix],\n",
    "              trainable=False,input_length=MAX_SEQUENCE_LENGTH),\n",
    "    SpatialDropout1D(0.2),\n",
    "    Bidirectional(LSTM(64,dropout=0.2,return_sequences=True)),\n",
    "    Bidirectional(LSTM(64)),\n",
    "    Dense(64, activation='relu'),\n",
    "    Dropout(0.3),\n",
    "    Dense(32,activation='relu'),\n",
    "    Dropout(0.3),\n",
    "    Dense(number_of_labels, activation='sigmoid')\n",
    "])\n",
    "model1.summary()"
   ]
  },
  {
   "cell_type": "code",
   "execution_count": 34,
   "metadata": {},
   "outputs": [
    {
     "data": {
      "image/png": "[encoded data removed]",
      "text/plain": [
       "<PIL.Image.Image image mode=RGBA size=319x280 at 0x7F8D9C26F2B0>"
      ]
     },
     "execution_count": 34,
     "metadata": {},
     "output_type": "execute_result"
    }
   ],
   "source": [
    "import visualkeras\n",
    "visualkeras.layered_view(model1,scale_xy=0.7)\n"
   ]
  },
  {
   "cell_type": "code",
   "execution_count": 35,
   "metadata": {},
   "outputs": [
    {
     "data": {
      "image/png": "[encoded data removed]",
      "text/plain": [
       "<IPython.core.display.Image object>"
      ]
     },
     "execution_count": 35,
     "metadata": {},
     "output_type": "execute_result"
    }
   ],
   "source": [
    "tf.keras.utils.plot_model(model1, show_shapes=True,\n",
    "    show_dtype=False,\n",
    "    show_layer_names=True,\n",
    "    rankdir=\"TB\",\n",
    "    expand_nested=True,\n",
    "    dpi=64,\n",
    "    layer_range=False)"
   ]
  },
  {
   "cell_type": "code",
   "execution_count": null,
   "metadata": {},
   "outputs": [
    {
     "name": "stdout",
     "output_type": "stream",
     "text": [
      "Epoch 1/50\n",
      "  95/6350 [..............................] - ETA: 15:00:07 - loss: 5.4441 - accuracy: 0.0681"
     ]
    }
   ],
   "source": [
    "model1.compile(loss=tf.keras.losses.SparseCategoricalCrossentropy(),\n",
    "              optimizer=tf.keras.optimizers.Adam(learning_rate=LR),\n",
    "              metrics=['accuracy'])\n",
    "\n",
    "history1 = model1.fit( \n",
    "    train_gen,\n",
    "    steps_per_epoch=train_steps,\n",
    "    epochs=EPOCHS,\n",
    "    validation_data=val_gen,\n",
    "    validation_steps=val_steps,\n",
    "    class_weight=class_weights,\n",
    "    callbacks=[early_stop,reducelr],verbose=1)"
   ]
  },
  {
   "cell_type": "code",
   "execution_count": null,
   "metadata": {},
   "outputs": [],
   "source": [
    "def plot_graphs(history, string):\n",
    "  plt.plot(history.history[string])\n",
    "  plt.plot(history.history['val_'+string])\n",
    "  plt.xlabel(\"Epochs\")\n",
    "  plt.ylabel(string)\n",
    "  plt.legend([string, 'val_'+string])\n",
    "  plt.show()\n",
    "  \n",
    "plot_graphs(history1, \"accuracy\")\n",
    "plot_graphs(history1, \"loss\")"
   ]
  },
  {
   "cell_type": "code",
   "execution_count": null,
   "metadata": {},
   "outputs": [],
   "source": [
    "model1.save('./model_lstm_tokenization_glove_BD2')"
   ]
  },
  {
   "cell_type": "code",
   "execution_count": null,
   "metadata": {},
   "outputs": [],
   "source": [
    "# Make predictions on the test data\n",
    "y_pred = model1.predict(test_padded)\n"
   ]
  },
  {
   "cell_type": "code",
   "execution_count": null,
   "metadata": {},
   "outputs": [],
   "source": [
    "from sklearn.metrics import classification_report\n",
    "\n",
    "# Convert predictions to labels\n",
    "y_pred_labels = np.argmax(y_pred, axis=1)\n",
    "\n",
    "# Get the true labels\n",
    "y_true_labels =test_label_seq\n",
    "\n",
    "test_label_text = encoder.inverse_transform(y_true_labels)\n",
    "pred_label_text = encoder.inverse_transform(y_pred_labels)\n",
    "\n",
    "# Print the classification report\n",
    "print(classification_report(test_label_text, pred_label_text))"
   ]
  },
  {
   "cell_type": "code",
   "execution_count": null,
   "metadata": {},
   "outputs": [],
   "source": [
    "cm=confusion_matrix(test_label_text,pred_label_text)\n",
    "fig, ax = plt.subplots(figsize=(10,10)) \n",
    "sns.heatmap(cm, annot=True, linewidths = 0.01,ax=ax, fmt='g')"
   ]
  },
  {
   "cell_type": "code",
   "execution_count": null,
   "metadata": {},
   "outputs": [],
   "source": [
    "# tf.keras.models.save_model(model1, \"model_lstm_token_gloveBD1.h5\")"
   ]
  },
  {
   "cell_type": "code",
   "execution_count": null,
   "metadata": {},
   "outputs": [],
   "source": [
    "print('----')"
   ]
  },
  {
   "cell_type": "code",
   "execution_count": null,
   "metadata": {},
   "outputs": [],
   "source": []
  }
 ],
 "metadata": {
  "kernelspec": {
   "display_name": "gpu2",
   "language": "python",
   "name": "gpu2"
  },
  "language_info": {
   "codemirror_mode": {
    "name": "ipython",
    "version": 3
   },
   "file_extension": ".py",
   "mimetype": "text/x-python",
   "name": "python",
   "nbconvert_exporter": "python",
   "pygments_lexer": "ipython3",
   "version": "3.6.13"
  }
 },
 "nbformat": 4,
 "nbformat_minor": 2
}
