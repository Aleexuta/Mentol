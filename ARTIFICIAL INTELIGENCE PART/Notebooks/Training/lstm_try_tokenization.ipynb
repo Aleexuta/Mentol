{
 "cells": [
  {
   "cell_type": "code",
   "execution_count": 1,
   "metadata": {},
   "outputs": [],
   "source": [
    "import sys\n",
    "import logging\n",
    "\n",
    "so = open(\"data_lstm.log\", 'w', 10)\n",
    "sys.stdout.echo = so\n",
    "sys.stderr.echo = so\n",
    "\n",
    "get_ipython().log.handlers[0].stream = so\n",
    "get_ipython().log.setLevel(logging.INFO)"
   ]
  },
  {
   "cell_type": "code",
   "execution_count": 2,
   "metadata": {},
   "outputs": [
    {
     "name": "stderr",
     "output_type": "stream",
     "text": [
      "/home/alexandra_neagu/anaconda3/envs/gpu2/lib/python3.6/site-packages/tqdm/auto.py:22: TqdmWarning: IProgress not found. Please update jupyter and ipywidgets. See https://ipywidgets.readthedocs.io/en/stable/user_install.html\n",
      "  from .autonotebook import tqdm as notebook_tqdm\n",
      "/home/alexandra_neagu/anaconda3/envs/gpu2/lib/python3.6/site-packages/gensim/similarities/__init__.py:15: UserWarning: The gensim.similarities.levenshtein submodule is disabled, because the optional Levenshtein package <https://pypi.org/project/python-Levenshtein/> is unavailable. Install Levenhstein (e.g. `pip install python-Levenshtein`) to suppress this warning.\n",
      "  warnings.warn(msg)\n"
     ]
    }
   ],
   "source": [
    "import time\n",
    "import torch\n",
    "import torch.nn as nn\n",
    "import torchvision.transforms as transforms\n",
    "import torchvision.datasets as datasets\n",
    "from torch.utils.data import DataLoader, Dataset, random_split\n",
    "import numpy as np\n",
    "import pandas as pd\n",
    "from sklearn.utils import shuffle\n",
    "from sklearn.naive_bayes import MultinomialNB\n",
    "from sklearn.ensemble import RandomForestClassifier\n",
    "from sklearn import svm\n",
    "from sklearn import preprocessing\n",
    "from sklearn.preprocessing import LabelEncoder\n",
    "from sklearn.feature_extraction.text import TfidfVectorizer\n",
    "from sklearn.model_selection import train_test_split\n",
    "from sklearn.metrics import accuracy_score, precision_score, recall_score, f1_score\n",
    "from pyimpute import load_training_vector, load_targets, impute, evaluate_clf\n",
    "from scikitplot.metrics import plot_confusion_matrix, plot_roc\n",
    "from sklearn.model_selection import train_test_split\n",
    "from sklearn.metrics import accuracy_score, precision_score, recall_score, f1_score, confusion_matrix\n",
    "import matplotlib.pyplot as plt\n",
    "import seaborn as sns\n",
    "sns.set()\n",
    "import keras\n",
    "from keras.layers import Embedding,Dense,LSTM,Bidirectional,SpatialDropout1D,GlobalMaxPooling1D,Input,Dropout,CuDNNLSTM,Conv1D\n",
    "from keras.callbacks import EarlyStopping,ReduceLROnPlateau\n",
    "from keras.models import Sequential\n",
    "from tensorflow.keras.preprocessing.text import Tokenizer\n",
    "from tensorflow.keras.preprocessing.sequence import pad_sequences\n",
    "import tensorflow as tf\n",
    "import re\n",
    "import string\n",
    "from nltk import sent_tokenize, word_tokenize\n",
    "from nltk.corpus import stopwords\n",
    "from nltk.stem import PorterStemmer\n",
    "import pickle\n",
    "from gensim.models import Word2Vec\n",
    "import warnings\n",
    "warnings.filterwarnings('ignore')\n",
    "from numpy.random import permutation\n",
    "import os\n",
    "os.environ['TF_CPP_MIN_LOG_LEVEL'] = '3' \n",
    "from tqdm import tqdm"
   ]
  },
  {
   "cell_type": "code",
   "execution_count": 3,
   "metadata": {},
   "outputs": [],
   "source": [
    "# ###1.3 Set GPU Growth -> avoid OOM errors by setting GPU Memory Consumption Growth\n",
    "# gpus = tf.config.experimental.list_physical_devices('GPU')\n",
    "# #ia toate GPUs disponibile pe aceasta masina\n",
    "\n",
    "# for gpu in gpus:\n",
    "#     tf.config.experimental.set_memory_growth(gpu,True)\n",
    "    \n",
    "# tf.config.experimental.set_visible_devices(devices=gpus[1], device_type='GPU')\n",
    "# tf.config.experimental.set_memory_growth(device=gpus[1], enable=True)"
   ]
  },
  {
   "cell_type": "code",
   "execution_count": 4,
   "metadata": {},
   "outputs": [],
   "source": [
    "from torch import cuda\n",
    "device = 'cuda' if cuda.is_available() else 'cpu'"
   ]
  },
  {
   "cell_type": "code",
   "execution_count": 5,
   "metadata": {},
   "outputs": [],
   "source": [
    "full_data=pd.read_csv('../datasets/mental_disorders_reddit_preprossed.csv')\n",
    "\n",
    "full_data=full_data.dropna(axis=0).reset_index(drop=True)"
   ]
  },
  {
   "cell_type": "code",
   "execution_count": 6,
   "metadata": {},
   "outputs": [],
   "source": [
    "vocab_size=5000\n",
    "max_length = 300\n",
    "oov_tok = '<OOV>'\n",
    "trunc_type = 'post'\n",
    "padding_type = 'post'\n",
    "embedding_dim = 128\n",
    "MAX_SEQUENCE_LENGTH =70\n",
    "MAX_NB_WORDS =1000\n",
    "TRAIN_SIZE = 0.8\n",
    "EMBEDDING_DIM = 300\n",
    "LR = 1e-3\n",
    "BATCH_SIZE = 32\n",
    "EPOCHS = 50"
   ]
  },
  {
   "cell_type": "code",
   "execution_count": 7,
   "metadata": {},
   "outputs": [],
   "source": [
    "X=full_data[\"selftext\"]\n",
    "y=full_data[\"subreddit\"].values\n",
    "\n",
    "X_train, X_test, y_train, y_test = train_test_split (X,y,test_size=0.3, random_state=13, stratify=y )\n",
    "\n",
    "X_train, X_validate, y_train, y_validate = train_test_split (X_train,y_train,train_size=0.8, random_state=18, stratify=y_train )"
   ]
  },
  {
   "cell_type": "code",
   "execution_count": 8,
   "metadata": {},
   "outputs": [],
   "source": [
    "number_of_labels=full_data[\"subreddit\"].nunique()"
   ]
  },
  {
   "cell_type": "code",
   "execution_count": 9,
   "metadata": {},
   "outputs": [
    {
     "data": {
      "text/plain": [
       "BPD              211733\n",
       "Anxiety          160906\n",
       "depression       119829\n",
       "mentalillness     37702\n",
       "bipolar           35421\n",
       "schizophrenia     11557\n",
       "Name: subreddit, dtype: int64"
      ]
     },
     "execution_count": 9,
     "metadata": {},
     "output_type": "execute_result"
    }
   ],
   "source": [
    "full_data[\"subreddit\"].value_counts()"
   ]
  },
  {
   "cell_type": "markdown",
   "metadata": {},
   "source": [
    "tokenization\n"
   ]
  },
  {
   "cell_type": "code",
   "execution_count": 10,
   "metadata": {},
   "outputs": [
    {
     "data": {
      "text/plain": [
       "159211"
      ]
     },
     "execution_count": 10,
     "metadata": {},
     "output_type": "execute_result"
    }
   ],
   "source": [
    "tokenizer = Tokenizer(num_words=vocab_size, oov_token = oov_tok)\n",
    "tokenizer.fit_on_texts(X_train)\n",
    "word_index = tokenizer.word_index\n",
    "vocab_size=len(tokenizer.word_index) + 1\n",
    "vocab_size"
   ]
  },
  {
   "cell_type": "code",
   "execution_count": 11,
   "metadata": {},
   "outputs": [],
   "source": [
    "train_sequences = tokenizer.texts_to_sequences(X_train)\n",
    "train_padded = pad_sequences(train_sequences, maxlen=MAX_SEQUENCE_LENGTH, \n",
    "                             padding=padding_type, truncating=trunc_type)"
   ]
  },
  {
   "cell_type": "code",
   "execution_count": 12,
   "metadata": {},
   "outputs": [],
   "source": [
    "validation_sequences = tokenizer.texts_to_sequences(X_validate)\n",
    "\n",
    "validation_padded = pad_sequences(validation_sequences, maxlen=MAX_SEQUENCE_LENGTH, padding=padding_type, truncating=trunc_type)"
   ]
  },
  {
   "cell_type": "code",
   "execution_count": 13,
   "metadata": {},
   "outputs": [],
   "source": [
    "test_sequences = tokenizer.texts_to_sequences(X_test)\n",
    "\n",
    "test_padded = pad_sequences(test_sequences, maxlen=MAX_SEQUENCE_LENGTH, padding=padding_type, truncating=trunc_type)"
   ]
  },
  {
   "cell_type": "code",
   "execution_count": 14,
   "metadata": {},
   "outputs": [],
   "source": [
    "#transform label from text to number\n",
    "encoder = LabelEncoder()\n",
    "encoder.fit(y_train)\n",
    "\n",
    "training_label_seq = encoder.transform(y_train)\n",
    "test_label_seq = encoder.transform(y_test)\n",
    "validation_label_seq = encoder.transform(y_validate)\n"
   ]
  },
  {
   "cell_type": "code",
   "execution_count": 15,
   "metadata": {},
   "outputs": [
    {
     "data": {
      "text/plain": [
       "BPD              211733\n",
       "Anxiety          160906\n",
       "depression       119829\n",
       "mentalillness     37702\n",
       "bipolar           35421\n",
       "schizophrenia     11557\n",
       "Name: subreddit, dtype: int64"
      ]
     },
     "execution_count": 15,
     "metadata": {},
     "output_type": "execute_result"
    }
   ],
   "source": [
    "full_data[\"subreddit\"].value_counts()"
   ]
  },
  {
   "cell_type": "code",
   "execution_count": 16,
   "metadata": {},
   "outputs": [],
   "source": [
    "reverse_word_index = dict(map(reversed, tokenizer.word_index.items()))\n",
    "\n",
    "def decode_article(text):\n",
    "     words = [reverse_word_index.get(letter) for letter in text]\n",
    "     return(words)"
   ]
  },
  {
   "cell_type": "markdown",
   "metadata": {},
   "source": [
    "callbacks"
   ]
  },
  {
   "cell_type": "code",
   "execution_count": 17,
   "metadata": {},
   "outputs": [],
   "source": [
    "early_stop=EarlyStopping(patience=5, min_delta=0.01)\n",
    "reducelr=ReduceLROnPlateau(patience=5)"
   ]
  },
  {
   "cell_type": "markdown",
   "metadata": {},
   "source": [
    "Augumentare"
   ]
  },
  {
   "cell_type": "code",
   "execution_count": null,
   "metadata": {},
   "outputs": [],
   "source": []
  },
  {
   "cell_type": "code",
   "execution_count": 18,
   "metadata": {},
   "outputs": [],
   "source": [
    "import nlpaug.augmenter.char as nac\n",
    "import nlpaug.augmenter.word as naw\n",
    "import nlpaug.augmenter.sentence as nas\n",
    "import nlpaug.flow as nafc\n",
    "\n",
    "from nlpaug.util import Action"
   ]
  },
  {
   "cell_type": "code",
   "execution_count": 19,
   "metadata": {},
   "outputs": [],
   "source": [
    "\n",
    "# def augumentation_synonym(row, augment_prob=0.3):\n",
    "#     decoded_row=decode_article(row)\n",
    "#     word_list = list(filter(None, decoded_row))\n",
    "#     num_words = len(word_list)\n",
    "#     string_row=decoded_row[0:num_words]\n",
    "#     sentence = \" \".join(string_row)\n",
    "#     augSynonim=naw.SynonymAug(aug_p=augment_prob)\n",
    "#     aug_text=augSynonim.augment(sentence)\n",
    "#     aug_text_token=tokenizer.texts_to_sequences(aug_text)\n",
    "#     return aug_text\n",
    "\n",
    "# aug = nac.KeyboardAug()\n",
    "# def augumentation_char_keyboard(row):\n",
    "#     decoded_row=decode_article(row)\n",
    "#     word_list = list(filter(None, decoded_row))\n",
    "#     num_words = len(word_list)\n",
    "#     string_row=decoded_row[0:num_words]\n",
    "#     sentence = \" \".join(string_row)\n",
    "   \n",
    "#     augmented_text = aug.augment(sentence)\n",
    "#     return augmented_text\n",
    "\n",
    "# augW2N = naw.WordEmbsAug(model_type='word2vec', model_path='../datasets/GoogleNews-vectors-negative300.bin',action=\"substitute\")\n",
    "# def augumentation_word2vec(row):\n",
    "#     decoded_row=decode_article(row)\n",
    "#     word_list = list(filter(None, decoded_row))\n",
    "#     num_words = len(word_list)\n",
    "#     string_row=decoded_row[0:num_words]\n",
    "#     sentence = \" \".join(string_row)\n",
    "\n",
    "#     aug_text=augW2N.augment(sentence)\n",
    "#     aug_text_token=tokenizer.texts_to_sequences(aug_text)\n",
    "#     return aug_text"
   ]
  },
  {
   "cell_type": "code",
   "execution_count": 20,
   "metadata": {},
   "outputs": [
    {
     "data": {
      "text/plain": [
       "array([ 270,    2,    3,  808,    3,  292,  273,  959,  744, 1773,  721,\n",
       "         68, 1995,   55,  376,   85,   71,   83,  134, 1819,   89,  351,\n",
       "       1370,  270,    2,    3,    5,  315,    1,  680,   44,   69, 1672,\n",
       "          2, 2958, 1896,  591,  161,  517,    0,    0,    0,    0,    0,\n",
       "          0,    0,    0,    0,    0,    0,    0,    0,    0,    0,    0,\n",
       "          0,    0,    0,    0,    0,    0,    0,    0,    0,    0,    0,\n",
       "          0,    0,    0,    0], dtype=int32)"
      ]
     },
     "execution_count": 20,
     "metadata": {},
     "output_type": "execute_result"
    }
   ],
   "source": [
    "test_padded[0]"
   ]
  },
  {
   "cell_type": "markdown",
   "metadata": {},
   "source": [
    "Generator"
   ]
  },
  {
   "cell_type": "code",
   "execution_count": 21,
   "metadata": {},
   "outputs": [],
   "source": [
    "def generator(X_data,y_data,batch_size,ratio_aug=0,aug_function=None):\n",
    "    cur_index=0\n",
    "    max_index=X_data.shape[0]\n",
    "    while True:\n",
    "        rows=np.arange(cur_index,min(cur_index+batch_size,max_index))\n",
    "        l=rows.size\n",
    "        if aug_function is not None:\n",
    "            aug_rows=np.random.choice(rows,int(l*ratio_aug),replace=False)\n",
    "            orig_rows=np.setdiff1d(rows,aug_rows)\n",
    "            #exemplu \n",
    "            aug_samples=np.array([aug_function(X_data[i]) for i in aug_rows])\n",
    "            aug_samples = np.reshape(aug_samples, (len(aug_samples), 1))\n",
    "            df = pd.DataFrame(aug_samples,columns=['col'])\n",
    "            aug_samples_token = tokenizer.texts_to_sequences(df['col'])\n",
    "\n",
    "            aug_samples_padd = pad_sequences(aug_samples_token, maxlen=MAX_SEQUENCE_LENGTH, padding=padding_type, truncating=trunc_type)\n",
    "            orig_samples=X_data[orig_rows]\n",
    "            \n",
    "            samples=np.concatenate((aug_samples_padd,orig_samples),axis=0)\n",
    "            targets=np.concatenate((y_data[aug_rows],y_data[orig_rows]),axis=0)\n",
    "        else:\n",
    "            samples=X_data[rows]\n",
    "            targets=y_data[rows]\n",
    "        cur_index+=len(rows)\n",
    "        if(cur_index>=max_index):\n",
    "            cur_index=0\n",
    "        yield samples, targets"
   ]
  },
  {
   "cell_type": "code",
   "execution_count": 22,
   "metadata": {},
   "outputs": [],
   "source": [
    "# training_label_seq=training_label_seq.reshape(-1,1)\n",
    "# validation_label_seq=validation_label_seq.reshape(-1,1)"
   ]
  },
  {
   "cell_type": "code",
   "execution_count": 23,
   "metadata": {},
   "outputs": [],
   "source": [
    "train_gen=generator(train_padded,training_label_seq,BATCH_SIZE)\n",
    "val_gen=generator(validation_padded,validation_label_seq,BATCH_SIZE)\n",
    "test_gen=generator(test_padded,test_label_seq,BATCH_SIZE)\n"
   ]
  },
  {
   "cell_type": "code",
   "execution_count": 24,
   "metadata": {},
   "outputs": [
    {
     "name": "stdout",
     "output_type": "stream",
     "text": [
      "10100.0625 2525.03125\n"
     ]
    }
   ],
   "source": [
    "train_len=train_padded.shape[0]\n",
    "val_len=validation_padded.shape[0]\n",
    "num_epochs =50\n",
    "val_steps=val_len/BATCH_SIZE\n",
    "train_steps=train_len/BATCH_SIZE\n",
    "\n",
    "print(train_steps, val_steps)"
   ]
  },
  {
   "cell_type": "markdown",
   "metadata": {},
   "source": [
    "Cream model"
   ]
  },
  {
   "cell_type": "code",
   "execution_count": 25,
   "metadata": {},
   "outputs": [
    {
     "data": {
      "text/plain": [
       "(array([0, 1, 2, 3, 4, 5]),\n",
       " array([ 90107, 118570,  19836,  67104,  21113,   6472]))"
      ]
     },
     "execution_count": 25,
     "metadata": {},
     "output_type": "execute_result"
    }
   ],
   "source": [
    "labels=np.unique(training_label_seq,return_counts=True)\n",
    "labels"
   ]
  },
  {
   "cell_type": "code",
   "execution_count": 26,
   "metadata": {},
   "outputs": [
    {
     "name": "stdout",
     "output_type": "stream",
     "text": [
      "323202\n"
     ]
    },
    {
     "data": {
      "text/plain": [
       "{0: 0.59781149078318,\n",
       " 1: 0.4543054735599224,\n",
       " 2: 2.715618068158903,\n",
       " 3: 0.8027390319504053,\n",
       " 4: 2.5513664566854546,\n",
       " 5: 8.323084054388133}"
      ]
     },
     "execution_count": 26,
     "metadata": {},
     "output_type": "execute_result"
    }
   ],
   "source": [
    "class_weights={}\n",
    "total=labels[1].sum()\n",
    "num_classes=6\n",
    "print(total)\n",
    "for i in labels[0]:\n",
    "    class_weights[i]=total/(num_classes*labels[1][i])\n",
    "class_weights"
   ]
  },
  {
   "cell_type": "code",
   "execution_count": 27,
   "metadata": {},
   "outputs": [
    {
     "name": "stdout",
     "output_type": "stream",
     "text": [
      "(array([0, 1, 2, 3, 4, 5]), array([ 90107, 118570,  19836,  67104,  21113,   6472]))\n",
      "0 -0.6198403231896831\n",
      "1 -0.8943459736092547\n",
      "2 0.893659061233837\n",
      "3 -0.32508612485878496\n",
      "4 0.8312685653547784\n",
      "5 2.013672350104534\n"
     ]
    },
    {
     "data": {
      "text/plain": [
       "{0: 1, 1: 1, 2: 1, 3: 1, 4: 1, 5: 2.013672350104534}"
      ]
     },
     "execution_count": 27,
     "metadata": {},
     "output_type": "execute_result"
    }
   ],
   "source": [
    "def class_weight_compute(labels_dict,mu=0.15):\n",
    "    print(labels_dict)\n",
    "    total = np.sum(labels_dict[1])\n",
    "    keys = labels_dict[0]\n",
    "    weight = dict()\n",
    "    for i in keys:\n",
    "        score = np.log(mu*total/float(labels_dict[1][i]))\n",
    "        print(i,score)\n",
    "        weight[i] = score if score > 1 else 1\n",
    "    return weight\n",
    "# random labels_dict\n",
    "labels_dict =np.unique(training_label_seq,return_counts=True)\n",
    "weights = class_weight_compute(labels_dict)\n",
    "weights"
   ]
  },
  {
   "cell_type": "code",
   "execution_count": 28,
   "metadata": {},
   "outputs": [
    {
     "name": "stdout",
     "output_type": "stream",
     "text": [
      "Model: \"sequential\"\n",
      "_________________________________________________________________\n",
      "Layer (type)                 Output Shape              Param #   \n",
      "=================================================================\n",
      "embedding (Embedding)        (None, 70, 300)           47763300  \n",
      "_________________________________________________________________\n",
      "spatial_dropout1d (SpatialDr (None, 70, 300)           0         \n",
      "_________________________________________________________________\n",
      "bidirectional (Bidirectional (None, 70, 128)           186880    \n",
      "_________________________________________________________________\n",
      "bidirectional_1 (Bidirection (None, 128)               98816     \n",
      "_________________________________________________________________\n",
      "dense (Dense)                (None, 64)                8256      \n",
      "_________________________________________________________________\n",
      "dropout (Dropout)            (None, 64)                0         \n",
      "_________________________________________________________________\n",
      "dense_1 (Dense)              (None, 32)                2080      \n",
      "_________________________________________________________________\n",
      "dropout_1 (Dropout)          (None, 32)                0         \n",
      "_________________________________________________________________\n",
      "dense_2 (Dense)              (None, 6)                 198       \n",
      "=================================================================\n",
      "Total params: 48,059,530\n",
      "Trainable params: 296,230\n",
      "Non-trainable params: 47,763,300\n",
      "_________________________________________________________________\n"
     ]
    }
   ],
   "source": [
    "model1 = Sequential([\n",
    "    Input(shape=MAX_SEQUENCE_LENGTH),\n",
    "    Embedding(vocab_size, EMBEDDING_DIM,\n",
    "              trainable=False,input_length=MAX_SEQUENCE_LENGTH),\n",
    "    SpatialDropout1D(0.2),\n",
    "    Bidirectional(LSTM(64,dropout=0.2,return_sequences=True)),\n",
    "    Bidirectional(LSTM(64)),\n",
    "    Dense(64, activation='relu'),\n",
    "    Dropout(0.3),\n",
    "    Dense(32,activation='relu'),\n",
    "    Dropout(0.3),\n",
    "    Dense(number_of_labels, activation='sigmoid')\n",
    "])\n",
    "model1.summary()"
   ]
  },
  {
   "cell_type": "code",
   "execution_count": 29,
   "metadata": {},
   "outputs": [],
   "source": [
    "import visualkeras\n",
    "from collections import defaultdict\n",
    "from PIL import Image\n",
    "\n",
    "color_map = defaultdict(dict)\n",
    "color_map[Dropout]['fill'] = '#E898AC'\n",
    "color_map[Bidirectional]['fill'] = '#00CFCC'\n",
    "color_map[Dense]['fill'] = '#FC723F'\n",
    "color_map[SpatialDropout1D]['fill'] = '#F64975'\n",
    "view=visualkeras.layered_view(model1,scale_xy=0.7,color_map=color_map)\n",
    "view.save('img_model_white.png')\n",
    "img = Image.open('img_model_white.png')\n",
    "\n",
    "new_img = Image.new('RGB', img.size, color=\"#002845\")  # Red background\n",
    "new_img.paste(img, (0, 0), img)\n",
    "new_img.save('img_model.png')"
   ]
  },
  {
   "cell_type": "code",
   "execution_count": 30,
   "metadata": {},
   "outputs": [
    {
     "data": {
      "image/png": "[encoded data removed]",
      "text/plain": [
       "<IPython.core.display.Image object>"
      ]
     },
     "execution_count": 30,
     "metadata": {},
     "output_type": "execute_result"
    }
   ],
   "source": [
    "tf.keras.utils.plot_model(model1, show_shapes=True,\n",
    "    show_dtype=False,\n",
    "    show_layer_names=True,\n",
    "    rankdir=\"TB\",\n",
    "    expand_nested=True,\n",
    "    dpi=64,\n",
    "    layer_range=False)"
   ]
  },
  {
   "cell_type": "code",
   "execution_count": null,
   "metadata": {},
   "outputs": [
    {
     "name": "stdout",
     "output_type": "stream",
     "text": [
      "Epoch 1/50\n",
      "10100/10100 [==============================] - 667s 65ms/step - loss: 1.0815 - accuracy: 0.6079 - val_loss: 0.9497 - val_accuracy: 0.6563\n",
      "Epoch 2/50\n",
      "10100/10100 [==============================] - 657s 65ms/step - loss: 0.9632 - accuracy: 0.6589 - val_loss: 0.8875 - val_accuracy: 0.6837\n",
      "Epoch 3/50\n",
      "10100/10100 [==============================] - 657s 65ms/step - loss: 0.9080 - accuracy: 0.6820 - val_loss: 0.8451 - val_accuracy: 0.7032\n",
      "Epoch 4/50\n",
      "10100/10100 [==============================] - 657s 65ms/step - loss: 0.8727 - accuracy: 0.6963 - val_loss: 0.8211 - val_accuracy: 0.7094\n",
      "Epoch 5/50\n",
      "10100/10100 [==============================] - 657s 65ms/step - loss: 0.8492 - accuracy: 0.7054 - val_loss: 0.8033 - val_accuracy: 0.7159\n",
      "Epoch 6/50\n",
      "10100/10100 [==============================] - 657s 65ms/step - loss: 0.8327 - accuracy: 0.7119 - val_loss: 0.7915 - val_accuracy: 0.7221\n",
      "Epoch 7/50\n",
      "10100/10100 [==============================] - 657s 65ms/step - loss: 0.8181 - accuracy: 0.7161 - val_loss: 0.7857 - val_accuracy: 0.7215\n",
      "Epoch 8/50\n",
      "10100/10100 [==============================] - 657s 65ms/step - loss: 0.8067 - accuracy: 0.7211 - val_loss: 0.7807 - val_accuracy: 0.7234\n",
      "Epoch 9/50\n",
      "10100/10100 [==============================] - 657s 65ms/step - loss: 0.7975 - accuracy: 0.7236 - val_loss: 0.7781 - val_accuracy: 0.7245\n",
      "Epoch 10/50\n",
      "10100/10100 [==============================] - 657s 65ms/step - loss: 0.7892 - accuracy: 0.7266 - val_loss: 0.7700 - val_accuracy: 0.7275\n",
      "Epoch 11/50\n",
      "10100/10100 [==============================] - 657s 65ms/step - loss: 0.7808 - accuracy: 0.7296 - val_loss: 0.7713 - val_accuracy: 0.7280\n",
      "Epoch 12/50\n",
      "10100/10100 [==============================] - 657s 65ms/step - loss: 0.7736 - accuracy: 0.7322 - val_loss: 0.7683 - val_accuracy: 0.7306\n",
      "Epoch 13/50\n",
      "10100/10100 [==============================] - 657s 65ms/step - loss: 0.7675 - accuracy: 0.7350 - val_loss: 0.7678 - val_accuracy: 0.7296\n",
      "Epoch 14/50\n",
      "10100/10100 [==============================] - 657s 65ms/step - loss: 0.7608 - accuracy: 0.7371 - val_loss: 0.7697 - val_accuracy: 0.7308\n",
      "Epoch 15/50\n",
      " 9174/10100 [==========================>...] - ETA: 55s - loss: 0.7546 - accuracy: 0.7389"
     ]
    }
   ],
   "source": [
    "from tensorflow.keras.metrics import Precision, Recall\n",
    "\n",
    "model1.compile(loss=tf.keras.losses.SparseCategoricalCrossentropy(),\n",
    "              optimizer=tf.keras.optimizers.Adam(learning_rate=LR),\n",
    "              metrics=['accuracy'])\n",
    "start_time = time.time()\n",
    "\n",
    "history1 = model1.fit( \n",
    "    train_gen,\n",
    "    steps_per_epoch=train_steps,\n",
    "    epochs=EPOCHS,\n",
    "    validation_data=val_gen,\n",
    "    validation_steps=val_steps,\n",
    "    #class_weight=weights,\n",
    "    callbacks=[early_stop,reducelr],verbose=1)\n",
    "end_time = time.time()"
   ]
  },
  {
   "cell_type": "code",
   "execution_count": 38,
   "metadata": {},
   "outputs": [
    {
     "name": "stdout",
     "output_type": "stream",
     "text": [
      "Timpul de execuție: 9859.871963977814 secunde\n"
     ]
    }
   ],
   "source": [
    "execution_time = end_time - start_time\n",
    "\n",
    "# Afișează timpul de execuție\n",
    "print(\"Timpul de execuție:\", execution_time, \"secunde\")"
   ]
  },
  {
   "cell_type": "code",
   "execution_count": 39,
   "metadata": {},
   "outputs": [
    {
     "data": {
      "image/png": "[encoded data removed]",
      "text/plain": [
       "<Figure size 432x288 with 1 Axes>"
      ]
     },
     "metadata": {},
     "output_type": "display_data"
    },
    {
     "data": {
      "image/png": "[encoded data removed]",
      "text/plain": [
       "<Figure size 432x288 with 1 Axes>"
      ]
     },
     "metadata": {},
     "output_type": "display_data"
    }
   ],
   "source": [
    "def plot_graphs(history, string):\n",
    "  plt.plot(history.history[string])\n",
    "  plt.plot(history.history['val_'+string])\n",
    "  plt.xlabel(\"Epochs\")\n",
    "  plt.ylabel(string)\n",
    "  plt.legend([string, 'val_'+string])\n",
    "  plt.show()\n",
    "  \n",
    "plot_graphs(history1, \"accuracy\")\n",
    "plot_graphs(history1, \"loss\")"
   ]
  },
  {
   "cell_type": "code",
   "execution_count": 40,
   "metadata": {},
   "outputs": [],
   "source": [
    "# model1.save('./model_lstm_tokenization_aftercorrect')"
   ]
  },
  {
   "cell_type": "code",
   "execution_count": 41,
   "metadata": {},
   "outputs": [],
   "source": [
    "# Make predictions on the test data\n",
    "y_pred = model1.predict(test_padded)\n"
   ]
  },
  {
   "cell_type": "code",
   "execution_count": 42,
   "metadata": {},
   "outputs": [
    {
     "name": "stdout",
     "output_type": "stream",
     "text": [
      "               precision    recall  f1-score   support\n",
      "\n",
      "      Anxiety       0.77      0.83      0.80     48272\n",
      "          BPD       0.80      0.78      0.79     63520\n",
      "      bipolar       0.70      0.56      0.63     10626\n",
      "   depression       0.61      0.77      0.68     35949\n",
      "mentalillness       0.53      0.14      0.22     11311\n",
      "schizophrenia       0.60      0.43      0.50      3467\n",
      "\n",
      "     accuracy                           0.73    173145\n",
      "    macro avg       0.67      0.59      0.60    173145\n",
      " weighted avg       0.73      0.73      0.72    173145\n",
      "\n"
     ]
    }
   ],
   "source": [
    "from sklearn.metrics import classification_report\n",
    "\n",
    "# Convert predictions to labels\n",
    "y_pred_labels = np.argmax(y_pred, axis=1)\n",
    "\n",
    "# Get the true labels\n",
    "y_true_labels =test_label_seq\n",
    "\n",
    "test_label_text = encoder.inverse_transform(y_true_labels)\n",
    "pred_label_text = encoder.inverse_transform(y_pred_labels)\n",
    "\n",
    "# Print the classification report\n",
    "print(classification_report(test_label_text, pred_label_text))"
   ]
  },
  {
   "cell_type": "code",
   "execution_count": 43,
   "metadata": {},
   "outputs": [
    {
     "data": {
      "text/plain": [
       "<AxesSubplot:>"
      ]
     },
     "execution_count": 43,
     "metadata": {},
     "output_type": "execute_result"
    },
    {
     "data": {
      "image/png": "[encoded data removed]",
      "text/plain": [
       "<Figure size 720x720 with 2 Axes>"
      ]
     },
     "metadata": {},
     "output_type": "display_data"
    }
   ],
   "source": [
    "cm=confusion_matrix(test_label_text,pred_label_text)\n",
    "fig, ax = plt.subplots(figsize=(10,10)) \n",
    "sns.heatmap(cm, annot=True, linewidths = 0.01,ax=ax, fmt='g')"
   ]
  },
  {
   "cell_type": "code",
   "execution_count": null,
   "metadata": {},
   "outputs": [],
   "source": []
  },
  {
   "cell_type": "code",
   "execution_count": null,
   "metadata": {},
   "outputs": [],
   "source": []
  }
 ],
 "metadata": {
  "kernelspec": {
   "display_name": "gpu2",
   "language": "python",
   "name": "gpu2"
  },
  "language_info": {
   "codemirror_mode": {
    "name": "ipython",
    "version": 3
   },
   "file_extension": ".py",
   "mimetype": "text/x-python",
   "name": "python",
   "nbconvert_exporter": "python",
   "pygments_lexer": "ipython3",
   "version": "3.6.13"
  }
 },
 "nbformat": 4,
 "nbformat_minor": 2
}
